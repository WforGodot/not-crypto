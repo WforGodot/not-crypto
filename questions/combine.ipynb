{
 "cells": [
  {
   "cell_type": "code",
   "execution_count": 1,
   "metadata": {},
   "outputs": [
    {
     "name": "stdout",
     "output_type": "stream",
     "text": [
      "18950\n"
     ]
    }
   ],
   "source": [
    "import json\n",
    "files = ['2add3.txt', '3add3.txt', '3add4.txt', '4add4.txt']\n",
    "\n",
    "combined = []\n",
    "for file in files:\n",
    "    with open(file, 'r') as f:\n",
    "        data = [json.loads(x) for x in f.read().splitlines()]\n",
    "        combined.extend(data)\n",
    "\n",
    "print(len(combined))"
   ]
  },
  {
   "cell_type": "code",
   "execution_count": 5,
   "metadata": {},
   "outputs": [],
   "source": [
    "import random\n",
    "\n",
    "random.shuffle(combined)\n",
    "test = combined[:3790]\n",
    "train = combined[3790:]\n",
    "with open('train.txt', 'w') as f:\n",
    "    for i in train:\n",
    "        json.dump(i, f)\n",
    "        f.write('\\n')\n",
    "with open('test.txt', 'w') as f:\n",
    "    for i in test:\n",
    "        json.dump(i, f)\n",
    "        f.write('\\n')"
   ]
  },
  {
   "cell_type": "code",
   "execution_count": null,
   "metadata": {},
   "outputs": [],
   "source": []
  }
 ],
 "metadata": {
  "kernelspec": {
   "display_name": "AddGPT",
   "language": "python",
   "name": "python3"
  },
  "language_info": {
   "codemirror_mode": {
    "name": "ipython",
    "version": 3
   },
   "file_extension": ".py",
   "mimetype": "text/x-python",
   "name": "python",
   "nbconvert_exporter": "python",
   "pygments_lexer": "ipython3",
   "version": "3.10.12"
  },
  "orig_nbformat": 4
 },
 "nbformat": 4,
 "nbformat_minor": 2
}
