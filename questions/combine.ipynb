{
 "cells": [
  {
   "cell_type": "code",
   "execution_count": 4,
   "metadata": {},
   "outputs": [
    {
     "name": "stdout",
     "output_type": "stream",
     "text": [
      "18950\n"
     ]
    }
   ],
   "source": [
    "import json\n",
    "\n",
    "# List of input files\n",
    "files = ['2add3.txt', '3add3.txt', '3add4.txt', '4add4.txt']\n",
    "\n",
    "# Combine data from all files\n",
    "combined = []\n",
    "for file in files:\n",
    "    with open(file, 'r') as f:\n",
    "        data = [json.loads(line) for line in f.read().splitlines()]\n",
    "        combined.extend(data)\n",
    "\n",
    "# Print the length of the combined list\n",
    "print(len(combined))"
   ]
  },
  {
   "cell_type": "code",
   "execution_count": 5,
   "metadata": {},
   "outputs": [],
   "source": [
    "import random\n",
    "\n",
    "# Shuffle the combined list\n",
    "random.shuffle(combined)\n",
    "\n",
    "# Split the data into training and test sets\n",
    "test = combined[:3790]\n",
    "train = combined[3790:]\n",
    "\n",
    "# Write the training set to 'train.json'\n",
    "with open('train.json', 'w') as f:\n",
    "    json.dump(train, f, indent=4)\n",
    "\n",
    "# Write the test set to 'test.json'\n",
    "with open('test.json', 'w') as f:\n",
    "    json.dump(test, f, indent=4)"
   ]
  },
  {
   "cell_type": "code",
   "execution_count": null,
   "metadata": {},
   "outputs": [],
   "source": []
  }
 ],
 "metadata": {
  "kernelspec": {
   "display_name": "AddGPT",
   "language": "python",
   "name": "python3"
  },
  "language_info": {
   "codemirror_mode": {
    "name": "ipython",
    "version": 3
   },
   "file_extension": ".py",
   "mimetype": "text/x-python",
   "name": "python",
   "nbconvert_exporter": "python",
   "pygments_lexer": "ipython3",
   "version": "3.12.3"
  },
  "orig_nbformat": 4
 },
 "nbformat": 4,
 "nbformat_minor": 2
}
