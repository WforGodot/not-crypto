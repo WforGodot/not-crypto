{
 "cells": [
  {
   "cell_type": "code",
   "execution_count": 238,
   "metadata": {},
   "outputs": [],
   "source": [
    "from dataclasses import dataclass\n",
    "from math import lcm\n",
    "\n",
    "def pad(x, n):\n",
    "    return [None for i in range(n - len(x))] + x\n",
    "\n",
    "@dataclass\n",
    "class Problem():\n",
    "\n",
    "    def __init__(self, init_dict):\n",
    "        self.legend = init_dict['legend']\n",
    "        self.cons = init_dict['cons']\n",
    "        self.poss = init_dict['poss']\n",
    "        self.solved = init_dict['solved']\n",
    "    \n",
    "    @classmethod\n",
    "    def from_crypt(cls, string):\n",
    "        split = string.split(\" \")\n",
    "        str_1, str_2, str_3 = split[0], split[2], split[4]\n",
    "        carry = [\"C\"+str(i) for i in range(1, len(str_3))]\n",
    "        legend_base = list(set(str_1 + str_2 + str_3))\n",
    "        legend = legend_base + carry\n",
    "        str1 = pad([legend.index(i) for i in str_1], len(str_3))\n",
    "        str2 = pad([legend.index(i) for i in str_2], len(str_3))\n",
    "        str3 = [legend.index(i) for i in str_3]\n",
    "        carry = [legend.index(i) for i in carry] + [None]\n",
    "        cons = []\n",
    "        print(str1, str2, str3, carry, legend)\n",
    "        for i in range(len(str3)):\n",
    "            x = [0 for i in range(len(legend)+ 1)]\n",
    "            if str1[i] != None:\n",
    "                x[str1[i]] += 1\n",
    "            if str2[i] != None:\n",
    "                x[str2[i]] += 1\n",
    "            if str3[i] != None:\n",
    "                x[str3[i]] -= 1\n",
    "            if carry[i] != None:\n",
    "                x[carry[i]] += 1\n",
    "            if i > 0:\n",
    "                x[carry[i-1]] -= 10\n",
    "            cons.append(x)\n",
    "        \n",
    "        heads = list(set([legend.index(i) for i in [str_1[0], str_2[0], str_3[0]]]))\n",
    "        poss = [[j for j in range(10)] for i in range(len(legend_base))] + [[0,1] for i in range(len(carry) - 1)]\n",
    "        for i in heads:\n",
    "            poss[i].remove(0)\n",
    "\n",
    "        return cls({'legend': legend, 'cons': cons, 'poss': poss, 'solved': [None for i in range(len(legend))]})\n",
    "\n",
    "    def __repr__(self):\n",
    "        return f'Problem({self.legend}, {self.cons}, {self.poss}, {self.solved})'\n",
    "    \n",
    "    def solve(self, i, x):\n",
    "        self.solved[i] = x\n",
    "        for j in range(len(self.cons)):\n",
    "            if self.cons[j][i] != 0:\n",
    "                self.cons[j][i] = 0\n",
    "                self.cons[j][-1] -= x\n",
    "        for j in range(len(self.poss)):\n",
    "            if x in self.poss[j]:\n",
    "                self.poss[j].remove(x)\n",
    "        self.poss[i] = [x]\n",
    "        \n",
    "    def check_for_solved(self):\n",
    "        x = []\n",
    "        for i in range(len(self.legend)):\n",
    "            if len(self.poss[i]) == 1 and self.solved[i] == None:\n",
    "                self.solve(i, self.poss[i][0])\n",
    "                print(f'Solved {self.legend[i]} to {self.poss[i][0]}')\n",
    "                x.append((i, self.poss[i][0]))\n",
    "        return x\n",
    "    \n",
    "    def check_for_impossible(self):\n",
    "        for i in range(len(self.legend)):\n",
    "            if len(self.poss[i]) == 0:\n",
    "                return True\n",
    "        return False\n",
    "\n",
    "    \n",
    "    def solve_simple_cons(self):\n",
    "        newly_solved = []\n",
    "        for i in range(len(self.cons)):\n",
    "            x = [k for k, v in enumerate(self.cons[i][:-1]) if v != 0]\n",
    "\n",
    "            if len(x) == 1 and self.solved[x[0]] == None:\n",
    "                print(f'Solved {self.legend[x[0]]} to {-1*int(self.cons[i][-1]/self.cons[i][x[0]])}')\n",
    "                self.solve(x[0], -1*int(self.cons[i][-1]/self.cons[i][x[0]]))\n",
    "\n",
    "                newly_solved.append((x[0], self.cons[i][-1]))\n",
    "        return newly_solved\n",
    "\n",
    "\n",
    "    \n",
    "    def basic_solve(self):\n",
    "        x = self.check_for_solved() + self.solve_simple_cons()\n",
    "        while len(x) > 0:\n",
    "            x = self.check_for_solved() + self.solve_simple_cons()\n",
    "        return self.check_for_impossible()\n",
    "\n",
    "        \n",
    "    #Take two constraints and unify them given a variable\n",
    "    def unify_cons(self, i, j, x):\n",
    "        if i not in range(len(self.cons)) or j not in range(len(self.cons)) or x not in range(len(self.legend) - 1):\n",
    "            return False\n",
    "        elif self.cons[i][x] == 0 or self.cons[j][x] == 0:\n",
    "            return False\n",
    "        else: \n",
    "            lcm = lcm(self.cons[i][x], self.cons[j][x])\n",
    "            new1 = [self.cons[i][k] * lcm/self.cons[i][x] for k in range(len(self.cons[i]))]\n",
    "            new2 = [self.cons[j][k] * lcm/self.cons[j][x] for k in range(len(self.cons[j]))]\n",
    "            new = [new1[k] - new2[k] for k in range(len(new1))]\n",
    "            self.cons.append(new)\n",
    "            return True\n",
    "            \n",
    "    # Take a constraint and a variable and find possible values for that variable\n",
    "    def find_poss(self, i, x):\n",
    "        if i not in range(len(self.cons)) or x not in range(len(self.legend) - 1):\n",
    "            return False\n",
    "        elif self.cons[i][x] == 0:\n",
    "            return False\n",
    "        else:\n",
    "            other_variables = [k for k in range(len(self.cons[i] - 1)) if k != x and self.cons[i][k] != 0]\n",
    "            if len(other_variables) == 0:\n",
    "                x_value = -1*int(self.cons[i][-1]/self.cons[i][x[0]]\n",
    "                if x_value not in self.poss[x]:\n",
    "                    return False\n",
    "\n",
    "\n"
   ]
  },
  {
   "cell_type": "code",
   "execution_count": 235,
   "metadata": {},
   "outputs": [
    {
     "name": "stdout",
     "output_type": "stream",
     "text": [
      "[1] [1] [0] [None] ['U', 'I']\n"
     ]
    }
   ],
   "source": [
    "x = Problem.from_crypt('I + I = U')"
   ]
  },
  {
   "cell_type": "code",
   "execution_count": 231,
   "metadata": {},
   "outputs": [
    {
     "data": {
      "text/plain": [
       "False"
      ]
     },
     "execution_count": 231,
     "metadata": {},
     "output_type": "execute_result"
    }
   ],
   "source": [
    "x.basic_solve()"
   ]
  },
  {
   "cell_type": "code",
   "execution_count": 211,
   "metadata": {},
   "outputs": [
    {
     "data": {
      "text/plain": [
       "[[-1, 2, 0]]"
      ]
     },
     "execution_count": 211,
     "metadata": {},
     "output_type": "execute_result"
    }
   ],
   "source": [
    "x.cons"
   ]
  },
  {
   "cell_type": "code",
   "execution_count": 228,
   "metadata": {},
   "outputs": [],
   "source": [
    "x.poss[x.legend.index('U')] = [4]"
   ]
  },
  {
   "cell_type": "code",
   "execution_count": 215,
   "metadata": {},
   "outputs": [
    {
     "data": {
      "text/plain": [
       "[[4], [2]]"
      ]
     },
     "execution_count": 215,
     "metadata": {},
     "output_type": "execute_result"
    }
   ],
   "source": [
    "x.poss"
   ]
  },
  {
   "cell_type": "code",
   "execution_count": 168,
   "metadata": {},
   "outputs": [
    {
     "data": {
      "text/plain": [
       "[[-1, 0, 0]]"
      ]
     },
     "execution_count": 168,
     "metadata": {},
     "output_type": "execute_result"
    }
   ],
   "source": [
    "x.cons"
   ]
  },
  {
   "cell_type": "code",
   "execution_count": 188,
   "metadata": {},
   "outputs": [
    {
     "data": {
      "text/plain": [
       "[4, 0]"
      ]
     },
     "execution_count": 188,
     "metadata": {},
     "output_type": "execute_result"
    }
   ],
   "source": [
    "x.solved"
   ]
  },
  {
   "cell_type": "code",
   "execution_count": null,
   "metadata": {},
   "outputs": [],
   "source": []
  }
 ],
 "metadata": {
  "kernelspec": {
   "display_name": "AddGPT",
   "language": "python",
   "name": "python3"
  },
  "language_info": {
   "codemirror_mode": {
    "name": "ipython",
    "version": 3
   },
   "file_extension": ".py",
   "mimetype": "text/x-python",
   "name": "python",
   "nbconvert_exporter": "python",
   "pygments_lexer": "ipython3",
   "version": "3.10.12"
  },
  "orig_nbformat": 4
 },
 "nbformat": 4,
 "nbformat_minor": 2
}
