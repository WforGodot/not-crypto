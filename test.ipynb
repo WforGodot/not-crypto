{
 "cells": [
  {
   "cell_type": "code",
   "execution_count": 1,
   "metadata": {},
   "outputs": [
    {
     "name": "stdout",
     "output_type": "stream",
     "text": [
      "[None, 0, 1, 2] [None, 3, 1, 2] [2, 4, 3, 0] [5, 6, 7, None] ['E', 'A', 'R', 'C', 'I', 'C1', 'C2', 'C3']\n"
     ]
    }
   ],
   "source": [
    "from solver import Solver\n",
    "\n",
    "puzzle = \"EAR + CAR = RICE\"\n",
    "\n",
    "# Create an instance of Solver_backtrack with the given puzzle\n",
    "solver = Solver.from_crypt(puzzle)"
   ]
  },
  {
   "cell_type": "code",
   "execution_count": 9,
   "metadata": {},
   "outputs": [
    {
     "data": {
      "text/plain": [
       "True"
      ]
     },
     "execution_count": 9,
     "metadata": {},
     "output_type": "execute_result"
    }
   ],
   "source": [
    "solver.find_poss_all()"
   ]
  },
  {
   "cell_type": "code",
   "execution_count": 10,
   "metadata": {},
   "outputs": [
    {
     "name": "stdout",
     "output_type": "stream",
     "text": [
      "Constraints:\n",
      "Possibilities:\n",
      "Assumptions:\n",
      "-  -  -  -\n",
      "1  0  0\n",
      "   2  4  1\n",
      "   8  4  1\n",
      "-  -  -  -\n",
      "1  0  8  2\n",
      "-  -  -  -\n"
     ]
    }
   ],
   "source": [
    "\n",
    "print(solver.show_state())"
   ]
  },
  {
   "cell_type": "code",
   "execution_count": null,
   "metadata": {},
   "outputs": [],
   "source": []
  }
 ],
 "metadata": {
  "kernelspec": {
   "display_name": "VerbalEnv2",
   "language": "python",
   "name": "python3"
  },
  "language_info": {
   "codemirror_mode": {
    "name": "ipython",
    "version": 3
   },
   "file_extension": ".py",
   "mimetype": "text/x-python",
   "name": "python",
   "nbconvert_exporter": "python",
   "pygments_lexer": "ipython3",
   "version": "3.10.11"
  }
 },
 "nbformat": 4,
 "nbformat_minor": 2
}
