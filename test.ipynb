{
 "cells": [
  {
   "cell_type": "code",
   "execution_count": 7,
   "metadata": {},
   "outputs": [
    {
     "name": "stdout",
     "output_type": "stream",
     "text": [
      "[None, None, 0, 1] [None, 0, 2, 1] [1, 3, 4, 4] [5, 6, 7, None] ['A', 'M', 'I', 'E', 'S', 'C1', 'C2', 'C3']\n"
     ]
    }
   ],
   "source": [
    "from solver import SolverNL\n",
    "\n",
    "puzzle = \"EVEN + NEED = BEAN\"\n",
    "\n",
    "# Create an instance of Solver_backtrack with the given puzzle\n",
    "solver = SolverNL(puzzle)"
   ]
  },
  {
   "cell_type": "code",
   "execution_count": 40,
   "metadata": {},
   "outputs": [
    {
     "name": "stdout",
     "output_type": "stream",
     "text": [
      "[None, 0, 1, 1, 2] [None, 1, 3, 0, 1] [4, 3, 4, 5, 6] [7, 8, 9, 10, None] ['T', 'O', 'L', 'N', 'E', 'M', 'Y', 'C1', 'C2', 'C3', 'C4']\n"
     ]
    }
   ],
   "source": [
    "from solver import SolverNL\n",
    "\n",
    "puzzle = \"TOOL + ONTO = ENEMY\"\n",
    "\n",
    "# Create an instance of Solver_backtrack with the given puzzle\n",
    "solver = SolverNL(puzzle)"
   ]
  },
  {
   "cell_type": "code",
   "execution_count": 38,
   "metadata": {},
   "outputs": [],
   "source": [
    "solver.parse_and_execute_list([\"find_poss 5 E\"])\n"
   ]
  },
  {
   "cell_type": "code",
   "execution_count": 41,
   "metadata": {},
   "outputs": [
    {
     "data": {
      "text/plain": [
       "True"
      ]
     },
     "execution_count": 41,
     "metadata": {},
     "output_type": "execute_result"
    }
   ],
   "source": [
    "solver.solve_with_backtracking()"
   ]
  },
  {
   "cell_type": "code",
   "execution_count": 43,
   "metadata": {},
   "outputs": [
    {
     "name": "stdout",
     "output_type": "stream",
     "text": [
      "Constraints:\n",
      "Possibilities:\n",
      "Assumptions:\n",
      "C2: 1\n",
      "C3: 1\n",
      "C4: 0\n",
      "O: 6\n",
      "-  -  -  -  -\n",
      "1  1  1  0\n",
      "   7  6  6  2\n",
      "   6  4  7  6\n",
      "-  -  -  -  -\n",
      "1  4  1  3  8\n",
      "-  -  -  -  -\n"
     ]
    }
   ],
   "source": [
    "print(solver.solved.show_state())"
   ]
  },
  {
   "cell_type": "code",
   "execution_count": 20,
   "metadata": {},
   "outputs": [
    {
     "name": "stdout",
     "output_type": "stream",
     "text": [
      "Executed: find_poss 0 C1 - Success\n",
      "Executed: unify_cons 0 1 D - Success\n",
      "Executed: find_poss 3 O - Success\n",
      "Executed: find_poss 1 D - Success\n",
      "Assumed D = 7\n",
      "Executed: make_assumption D 7 - Success\n",
      "Backtracked on assumption D = 7\n",
      "Executed: backtrack - Success\n",
      "Assumed D = 8\n",
      "Executed: make_assumption D 8 - Success\n",
      "\n",
      "Current State:\n",
      "Constraints:\n",
      "Possibilities:\n",
      "Assumptions:\n",
      "D: 8\n",
      "Equation: 87 + 788 = 875\n"
     ]
    }
   ],
   "source": [
    "print(solver.get_log_and_state())"
   ]
  },
  {
   "cell_type": "code",
   "execution_count": 3,
   "metadata": {},
   "outputs": [
    {
     "name": "stdout",
     "output_type": "stream",
     "text": [
      "Constraints:\n",
      "0: + 1E + 1N - 1B = -1\n",
      "2: + 2E - 1A = 10\n",
      "Possibilities:\n",
      "E: [8, 6, 7]\n",
      "N: [1, 2, 3, 4, 5, 6, 7, 8]\n",
      "B: [1, 2, 3, 4, 5, 6, 7, 8]\n",
      "A: [2, 4, 6]\n",
      "Assumptions:\n",
      "E9EN + NEE0 = BEAN\n",
      "\n",
      "False\n"
     ]
    }
   ],
   "source": [
    "print(solver.show_state())\n",
    "print(solver.error)\n",
    "print(solver.is_solved())"
   ]
  },
  {
   "cell_type": "code",
   "execution_count": 22,
   "metadata": {},
   "outputs": [
    {
     "name": "stdout",
     "output_type": "stream",
     "text": [
      "w\n"
     ]
    }
   ],
   "source": [
    "import re\n",
    "response_text = \"\"\"We start by narrowing down possibilities for `C1`, followed by `C2` if needed, and then possibly making an assumption if we do not get comprehensive results:        \n",
    "\n",
    "<[w]]\n",
    "\"\"\"\n",
    "json_list_match = re.search(r'\\<\\[(.*?)\\]\\>', response_text)\n",
    "print(json_list_match.group(1))"
   ]
  },
  {
   "cell_type": "code",
   "execution_count": null,
   "metadata": {},
   "outputs": [],
   "source": []
  }
 ],
 "metadata": {
  "kernelspec": {
   "display_name": "VerbalEnv2",
   "language": "python",
   "name": "python3"
  },
  "language_info": {
   "codemirror_mode": {
    "name": "ipython",
    "version": 3
   },
   "file_extension": ".py",
   "mimetype": "text/x-python",
   "name": "python",
   "nbconvert_exporter": "python",
   "pygments_lexer": "ipython3",
   "version": "3.10.11"
  }
 },
 "nbformat": 4,
 "nbformat_minor": 2
}
