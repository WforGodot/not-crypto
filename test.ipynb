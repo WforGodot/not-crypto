{
 "cells": [
  {
   "cell_type": "code",
   "execution_count": 1,
   "metadata": {},
   "outputs": [
    {
     "name": "stdout",
     "output_type": "stream",
     "text": [
      "[0, 1, 0, 2] [2, 0, 0, 3] [4, 0, 5, 2] [6, 7, 8, None] ['E', 'V', 'N', 'D', 'B', 'A', 'C1', 'C2', 'C3']\n"
     ]
    }
   ],
   "source": [
    "from solver import Solver\n",
    "\n",
    "puzzle = \"EVEN + NEED = BEAN\"\n",
    "\n",
    "# Create an instance of Solver_backtrack with the given puzzle\n",
    "solver = Solver.from_crypt(puzzle)"
   ]
  },
  {
   "cell_type": "code",
   "execution_count": 12,
   "metadata": {},
   "outputs": [
    {
     "data": {
      "text/plain": [
       "True"
      ]
     },
     "execution_count": 12,
     "metadata": {},
     "output_type": "execute_result"
    }
   ],
   "source": [
    "solver.find_poss_all()"
   ]
  },
  {
   "cell_type": "code",
   "execution_count": 13,
   "metadata": {},
   "outputs": [
    {
     "name": "stdout",
     "output_type": "stream",
     "text": [
      "Constraints:\n",
      "Possibilities:\n",
      "Assumptions:\n",
      "-  -  -  -\n",
      "1  1  0\n",
      "6  9  6  1\n",
      "1  6  6  0\n",
      "-  -  -  -\n",
      "8  6  2  1\n",
      "-  -  -  -\n",
      "Variable not in constraint\n"
     ]
    }
   ],
   "source": [
    "print(solver.show_state())\n",
    "print(solver.error)"
   ]
  },
  {
   "cell_type": "code",
   "execution_count": 10,
   "metadata": {},
   "outputs": [
    {
     "data": {
      "text/plain": [
       "True"
      ]
     },
     "execution_count": 10,
     "metadata": {},
     "output_type": "execute_result"
    }
   ],
   "source": [
    "solver.find_poss(2, 'A')"
   ]
  },
  {
   "cell_type": "code",
   "execution_count": null,
   "metadata": {},
   "outputs": [],
   "source": []
  }
 ],
 "metadata": {
  "kernelspec": {
   "display_name": "VerbalEnv2",
   "language": "python",
   "name": "python3"
  },
  "language_info": {
   "codemirror_mode": {
    "name": "ipython",
    "version": 3
   },
   "file_extension": ".py",
   "mimetype": "text/x-python",
   "name": "python",
   "nbconvert_exporter": "python",
   "pygments_lexer": "ipython3",
   "version": "3.10.11"
  }
 },
 "nbformat": 4,
 "nbformat_minor": 2
}
