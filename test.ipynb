{
 "cells": [
  {
   "cell_type": "code",
   "execution_count": 1,
   "metadata": {},
   "outputs": [
    {
     "name": "stdout",
     "output_type": "stream",
     "text": [
      "[0, 1, 0, 2] [2, 0, 0, 3] [4, 0, 5, 2] [6, 7, 8, None] ['E', 'V', 'N', 'D', 'B', 'A', 'C1', 'C2', 'C3']\n"
     ]
    }
   ],
   "source": [
    "from solver import SolverNL\n",
    "\n",
    "puzzle = \"EVEN + NEED = BEAN\"\n",
    "\n",
    "# Create an instance of Solver_backtrack with the given puzzle\n",
    "solver = SolverNL(puzzle)"
   ]
  },
  {
   "cell_type": "code",
   "execution_count": 1,
   "metadata": {},
   "outputs": [],
   "source": [
    "from solver import SolverNL\n",
    "\n",
    "puzzle = \"EVEN + HERE = TENT\"\n",
    "\n",
    "# Create an instance of Solver_backtrack with the given puzzle\n",
    "solver = SolverNL(puzzle)"
   ]
  },
  {
   "cell_type": "code",
   "execution_count": 3,
   "metadata": {},
   "outputs": [],
   "source": [
    "instructions = ['find 2 C2', 'find 1 C2', 'find 3 C3', 'unify 0 3 E', 'find 4 C3', 'unify 2 3 E', 'assume N 2']\n",
    "solver.parse_and_execute_list(instructions)\n"
   ]
  },
  {
   "cell_type": "code",
   "execution_count": 4,
   "metadata": {},
   "outputs": [
    {
     "name": "stdout",
     "output_type": "stream",
     "text": [
      "[None, 9, None, None, None, None, 1, 1, 0]\n"
     ]
    }
   ],
   "source": [
    "print(solver.solved)"
   ]
  },
  {
   "cell_type": "code",
   "execution_count": 6,
   "metadata": {},
   "outputs": [
    {
     "name": "stdout",
     "output_type": "stream",
     "text": [
      "Constraints:\n",
      "0: + 1E + 1H - 1T = -1\n",
      "2: + 1E - 1N + 1R = 10\n",
      "3: + 1E + 1N - 1T = 0\n",
      "4: - 1.0N + 1.0H = -1.0\n",
      "5: - 2.0N + 1.0R + 1.0T = 10.0\n",
      "Possibilities:\n",
      "E: [4, 5, 6]\n",
      "N: [2, 3]\n",
      "H: [1, 2]\n",
      "R: [6, 7, 8]\n",
      "T: [6, 7, 8]\n",
      "Assumptions:\n",
      "-  -  -  -\n",
      "1  1  0\n",
      "E  9  E  N\n",
      "H  E  R  E\n",
      "-  -  -  -\n",
      "T  E  N  T\n",
      "-  -  -  -\n"
     ]
    }
   ],
   "source": [
    "print(solver.show_state())"
   ]
  },
  {
   "cell_type": "code",
   "execution_count": 4,
   "metadata": {},
   "outputs": [
    {
     "data": {
      "text/plain": [
       "True"
      ]
     },
     "execution_count": 4,
     "metadata": {},
     "output_type": "execute_result"
    }
   ],
   "source": [
    "solver.solve_with_backtracking()"
   ]
  },
  {
   "cell_type": "code",
   "execution_count": 3,
   "metadata": {},
   "outputs": [
    {
     "name": "stdout",
     "output_type": "stream",
     "text": [
      "Executed: find 2 C2 - Success\n",
      "No possibilities were reduced for C2.\n",
      "Executed: find 1 C2 - Success\n",
      "Reduced possibilities for C2. Remaining: [1], Removed: [0]\n",
      "Executed: find 3 C3 - Success\n",
      "No possibilities were reduced for C3.\n",
      "Executed: unify 0 3 E - Success\n",
      "Unified constraints into: - 1.0N + 1.0H + 10.0C3 = -1.0\n",
      "Executed: find 4 C3 - Success\n",
      "Reduced possibilities for C3. Remaining: [0], Removed: [1]\n",
      "Executed: unify 2 3 E - Success\n",
      "Unified constraints into: - 2.0N + 1.0R + 1.0T = 10.0\n",
      "Executed: assume N 2 - Error: list indices must be integers or slices, not str\n",
      "Problem Solved!\n",
      "\n",
      "Current State:\n",
      "Constraints:\n",
      "Possibilities:\n",
      "Assumptions:\n",
      "N: 2\n",
      "Equation: 4942 + 1484 = 6426\n"
     ]
    }
   ],
   "source": [
    "print(solver.get_log_and_state())"
   ]
  },
  {
   "cell_type": "code",
   "execution_count": null,
   "metadata": {},
   "outputs": [
    {
     "name": "stdout",
     "output_type": "stream",
     "text": [
      "Constraints:\n",
      "0: + 1E + 1N - 1B = -1\n",
      "2: + 2E - 1A = 10\n",
      "Possibilities:\n",
      "E: [8, 6, 7]\n",
      "N: [1, 2, 3, 4, 5, 6, 7, 8]\n",
      "B: [1, 2, 3, 4, 5, 6, 7, 8]\n",
      "A: [2, 4, 6]\n",
      "Assumptions:\n",
      "E9EN + NEE0 = BEAN\n",
      "\n",
      "False\n"
     ]
    }
   ],
   "source": [
    "print(solver.show_state())\n",
    "print(solver.error)\n",
    "print(solver.is_solved())"
   ]
  },
  {
   "cell_type": "code",
   "execution_count": null,
   "metadata": {},
   "outputs": [
    {
     "name": "stdout",
     "output_type": "stream",
     "text": [
      "w\n"
     ]
    }
   ],
   "source": [
    "import re\n",
    "response_text = \"\"\"We start by narrowing down possibilities for `C1`, followed by `C2` if needed, and then possibly making an assumption if we do not get comprehensive results:        \n",
    "\n",
    "<[w]]\n",
    "\"\"\"\n",
    "json_list_match = re.search(r'\\<\\[(.*?)\\]\\>', response_text)\n",
    "print(json_list_match.group(1))"
   ]
  },
  {
   "cell_type": "code",
   "execution_count": null,
   "metadata": {},
   "outputs": [],
   "source": []
  }
 ],
 "metadata": {
  "kernelspec": {
   "display_name": "VerbalEnv2",
   "language": "python",
   "name": "python3"
  },
  "language_info": {
   "codemirror_mode": {
    "name": "ipython",
    "version": 3
   },
   "file_extension": ".py",
   "mimetype": "text/x-python",
   "name": "python",
   "nbconvert_exporter": "python",
   "pygments_lexer": "ipython3",
   "version": "3.10.11"
  }
 },
 "nbformat": 4,
 "nbformat_minor": 2
}
